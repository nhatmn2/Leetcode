{
 "cells": [
  {
   "cell_type": "markdown",
   "metadata": {},
   "source": [
    "432. All O`one Data Structure\n",
    "\n",
    "Design a data structure to store the strings' count with the ability to return the strings with minimum and maximum counts.\n",
    "\n",
    "Implement the AllOne class:\n",
    "\n",
    "AllOne() Initializes the object of the data structure.\n",
    "inc(String key) Increments the count of the string key by 1. If key does not exist in the data structure, insert it with count 1.\n",
    "dec(String key) Decrements the count of the string key by 1. If the count of key is 0 after the decrement, remove it from the data structure. It is guaranteed that key exists in the data structure before the decrement.\n",
    "getMaxKey() Returns one of the keys with the maximal count. If no element exists, return an empty string \"\".\n",
    "getMinKey() Returns one of the keys with the minimum count. If no element exists, return an empty string \"\".\n",
    "Note that each function must run in O(1) average time complexity."
   ]
  },
  {
   "cell_type": "code",
   "execution_count": null,
   "metadata": {},
   "outputs": [],
   "source": [
    "class AllOne:\n",
    "    \n",
    "    def __init__(self):\n",
    "        \n",
    "\n",
    "    def inc(self, key: str) -> None:\n",
    "        \n",
    "\n",
    "    def dec(self, key: str) -> None:\n",
    "        \n",
    "\n",
    "    def getMaxKey(self) -> str:\n",
    "        \n",
    "\n",
    "    def getMinKey(self) -> str:\n",
    "        \n",
    "\n",
    "\n",
    "# Your AllOne object will be instantiated and called as such:\n",
    "# obj = AllOne()\n",
    "# obj.inc(key)\n",
    "# obj.dec(key)\n",
    "# param_3 = obj.getMaxKey()\n",
    "# param_4 = obj.getMinKey()"
   ]
  }
 ],
 "metadata": {
  "language_info": {
   "name": "python"
  }
 },
 "nbformat": 4,
 "nbformat_minor": 2
}
